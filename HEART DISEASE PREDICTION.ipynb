{
 "cells": [
  {
   "cell_type": "markdown",
   "metadata": {},
   "source": [
    "###  BRIEF DESCRIPRION ABOUT THE USE CASE \n",
    "  It is known that the most popular cause of dealth globally is the Cardiovascular diseases (CVDs) also known as Heart Disease. With over 18m dealth annually. Given that, it is worth the effort and investing time to research and find ways to curb or reduce the mortality rate caused by CVDs. One of the ways to help is to proactively identify (predict)the patients who are likely to have the CVDs and prevent the disease at early stage. The factors that lead to heart disease such as age, sex, Resting"
   ]
  },
  {
   "cell_type": "code",
   "execution_count": 1,
   "metadata": {},
   "outputs": [
    {
     "name": "stdout",
     "output_type": "stream",
     "text": [
      "Import Done!\n"
     ]
    }
   ],
   "source": [
    "import pandas as pd\n",
    "from sklearn.linear_model import LogisticRegression\n",
    "from datetime import datetime, timedelta\n",
    "import numpy as np\n",
    "from matplotlib.pyplot import pie, axis, show\n",
    "import matplotlib.pyplot as plt\n",
    "import seaborn as sns\n",
    "from datetime import datetime\n",
    "from sklearn.model_selection import train_test_split\n",
    "from datetime import date\n",
    "from sklearn.preprocessing import StandardScaler, MinMaxScaler, RobustScaler\n",
    "from sklearn.preprocessing import LabelEncoder, StandardScaler\n",
    "print(\"Import Done!\")"
   ]
  },
  {
   "cell_type": "markdown",
   "metadata": {},
   "source": [
    "### Import Data"
   ]
  },
  {
   "cell_type": "code",
   "execution_count": 2,
   "metadata": {},
   "outputs": [],
   "source": [
    "def read_flat_file(file):\n",
    "    dfs = pd.read_csv(file)\n",
    "    return dfs\n",
    "data=read_flat_file('Heart_Disease_Prediction.csv')"
   ]
  },
  {
   "cell_type": "code",
   "execution_count": 3,
   "metadata": {},
   "outputs": [
    {
     "data": {
      "text/html": [
       "<div>\n",
       "<style scoped>\n",
       "    .dataframe tbody tr th:only-of-type {\n",
       "        vertical-align: middle;\n",
       "    }\n",
       "\n",
       "    .dataframe tbody tr th {\n",
       "        vertical-align: top;\n",
       "    }\n",
       "\n",
       "    .dataframe thead th {\n",
       "        text-align: right;\n",
       "    }\n",
       "</style>\n",
       "<table border=\"1\" class=\"dataframe\">\n",
       "  <thead>\n",
       "    <tr style=\"text-align: right;\">\n",
       "      <th></th>\n",
       "      <th>Age</th>\n",
       "      <th>Sex</th>\n",
       "      <th>Chest pain type</th>\n",
       "      <th>BP</th>\n",
       "      <th>Cholesterol</th>\n",
       "      <th>FBS over 120</th>\n",
       "      <th>EKG results</th>\n",
       "      <th>Max HR</th>\n",
       "      <th>Exercise angina</th>\n",
       "      <th>ST depression</th>\n",
       "      <th>Slope of ST</th>\n",
       "      <th>Number of vessels fluro</th>\n",
       "      <th>Thallium</th>\n",
       "      <th>Heart Disease</th>\n",
       "    </tr>\n",
       "  </thead>\n",
       "  <tbody>\n",
       "    <tr>\n",
       "      <th>0</th>\n",
       "      <td>70</td>\n",
       "      <td>1</td>\n",
       "      <td>4</td>\n",
       "      <td>130</td>\n",
       "      <td>322</td>\n",
       "      <td>0</td>\n",
       "      <td>2</td>\n",
       "      <td>109</td>\n",
       "      <td>0</td>\n",
       "      <td>2.4</td>\n",
       "      <td>2</td>\n",
       "      <td>3</td>\n",
       "      <td>3</td>\n",
       "      <td>Presence</td>\n",
       "    </tr>\n",
       "    <tr>\n",
       "      <th>1</th>\n",
       "      <td>67</td>\n",
       "      <td>0</td>\n",
       "      <td>3</td>\n",
       "      <td>115</td>\n",
       "      <td>564</td>\n",
       "      <td>0</td>\n",
       "      <td>2</td>\n",
       "      <td>160</td>\n",
       "      <td>0</td>\n",
       "      <td>1.6</td>\n",
       "      <td>2</td>\n",
       "      <td>0</td>\n",
       "      <td>7</td>\n",
       "      <td>Absence</td>\n",
       "    </tr>\n",
       "    <tr>\n",
       "      <th>2</th>\n",
       "      <td>57</td>\n",
       "      <td>1</td>\n",
       "      <td>2</td>\n",
       "      <td>124</td>\n",
       "      <td>261</td>\n",
       "      <td>0</td>\n",
       "      <td>0</td>\n",
       "      <td>141</td>\n",
       "      <td>0</td>\n",
       "      <td>0.3</td>\n",
       "      <td>1</td>\n",
       "      <td>0</td>\n",
       "      <td>7</td>\n",
       "      <td>Presence</td>\n",
       "    </tr>\n",
       "    <tr>\n",
       "      <th>3</th>\n",
       "      <td>64</td>\n",
       "      <td>1</td>\n",
       "      <td>4</td>\n",
       "      <td>128</td>\n",
       "      <td>263</td>\n",
       "      <td>0</td>\n",
       "      <td>0</td>\n",
       "      <td>105</td>\n",
       "      <td>1</td>\n",
       "      <td>0.2</td>\n",
       "      <td>2</td>\n",
       "      <td>1</td>\n",
       "      <td>7</td>\n",
       "      <td>Absence</td>\n",
       "    </tr>\n",
       "    <tr>\n",
       "      <th>4</th>\n",
       "      <td>74</td>\n",
       "      <td>0</td>\n",
       "      <td>2</td>\n",
       "      <td>120</td>\n",
       "      <td>269</td>\n",
       "      <td>0</td>\n",
       "      <td>2</td>\n",
       "      <td>121</td>\n",
       "      <td>1</td>\n",
       "      <td>0.2</td>\n",
       "      <td>1</td>\n",
       "      <td>1</td>\n",
       "      <td>3</td>\n",
       "      <td>Absence</td>\n",
       "    </tr>\n",
       "  </tbody>\n",
       "</table>\n",
       "</div>"
      ],
      "text/plain": [
       "   Age  Sex  Chest pain type   BP  Cholesterol  FBS over 120  EKG results  \\\n",
       "0   70    1                4  130          322             0            2   \n",
       "1   67    0                3  115          564             0            2   \n",
       "2   57    1                2  124          261             0            0   \n",
       "3   64    1                4  128          263             0            0   \n",
       "4   74    0                2  120          269             0            2   \n",
       "\n",
       "   Max HR  Exercise angina  ST depression  Slope of ST  \\\n",
       "0     109                0            2.4            2   \n",
       "1     160                0            1.6            2   \n",
       "2     141                0            0.3            1   \n",
       "3     105                1            0.2            2   \n",
       "4     121                1            0.2            1   \n",
       "\n",
       "   Number of vessels fluro  Thallium Heart Disease  \n",
       "0                        3         3      Presence  \n",
       "1                        0         7       Absence  \n",
       "2                        0         7      Presence  \n",
       "3                        1         7       Absence  \n",
       "4                        1         3       Absence  "
      ]
     },
     "execution_count": 3,
     "metadata": {},
     "output_type": "execute_result"
    }
   ],
   "source": [
    "data.head()"
   ]
  },
  {
   "cell_type": "code",
   "execution_count": 4,
   "metadata": {},
   "outputs": [
    {
     "data": {
      "text/plain": [
       "(270, 14)"
      ]
     },
     "execution_count": 4,
     "metadata": {},
     "output_type": "execute_result"
    }
   ],
   "source": [
    "data.shape"
   ]
  },
  {
   "cell_type": "markdown",
   "metadata": {},
   "source": [
    "####  All Observations and features"
   ]
  },
  {
   "cell_type": "code",
   "execution_count": 5,
   "metadata": {},
   "outputs": [
    {
     "name": "stdout",
     "output_type": "stream",
     "text": [
      "The total number observations 270\n",
      "The total features that come with the dataset 13\n"
     ]
    }
   ],
   "source": [
    "print(\"The total number observations\",len(data))\n",
    "print(\"The total features that come with the dataset\",len(data.columns)-1)"
   ]
  },
  {
   "cell_type": "code",
   "execution_count": 6,
   "metadata": {},
   "outputs": [
    {
     "data": {
      "text/plain": [
       "Age                        0\n",
       "Sex                        0\n",
       "Chest pain type            0\n",
       "BP                         0\n",
       "Cholesterol                0\n",
       "FBS over 120               0\n",
       "EKG results                0\n",
       "Max HR                     0\n",
       "Exercise angina            0\n",
       "ST depression              0\n",
       "Slope of ST                0\n",
       "Number of vessels fluro    0\n",
       "Thallium                   0\n",
       "Heart Disease              0\n",
       "dtype: int64"
      ]
     },
     "execution_count": 6,
     "metadata": {},
     "output_type": "execute_result"
    }
   ],
   "source": [
    "#The number of null values in each column i.e column means axis =0\n",
    "data.isnull().sum(axis=0)"
   ]
  },
  {
   "cell_type": "code",
   "execution_count": 7,
   "metadata": {},
   "outputs": [
    {
     "data": {
      "text/plain": [
       "Absence     150\n",
       "Presence    120\n",
       "Name: Heart Disease, dtype: int64"
      ]
     },
     "execution_count": 7,
     "metadata": {},
     "output_type": "execute_result"
    }
   ],
   "source": [
    "data['Heart Disease'].value_counts() #The distribution of the Heart Disease class that is target variable. If the data is not closely divided we would have applied SMOTE"
   ]
  },
  {
   "cell_type": "code",
   "execution_count": 8,
   "metadata": {},
   "outputs": [
    {
     "data": {
      "text/plain": [
       "Age                         41\n",
       "Sex                          2\n",
       "Chest pain type              4\n",
       "BP                          47\n",
       "Cholesterol                144\n",
       "FBS over 120                 2\n",
       "EKG results                  3\n",
       "Max HR                      90\n",
       "Exercise angina              2\n",
       "ST depression               39\n",
       "Slope of ST                  3\n",
       "Number of vessels fluro      4\n",
       "Thallium                     3\n",
       "Heart Disease                2\n",
       "dtype: int64"
      ]
     },
     "execution_count": 8,
     "metadata": {},
     "output_type": "execute_result"
    }
   ],
   "source": [
    "data.nunique()"
   ]
  },
  {
   "cell_type": "code",
   "execution_count": 9,
   "metadata": {},
   "outputs": [],
   "source": [
    "#nunique = data.nunique()\n",
    "#df = data[[col for col in data if nunique[col] > 1 and nunique[col] < 50]] "
   ]
  },
  {
   "cell_type": "code",
   "execution_count": 10,
   "metadata": {},
   "outputs": [],
   "source": [
    "# Distribution graphs (histogram/bar graph) of column data\n",
    "def plotPerColumnDistribution(df, nGraphShown, nGraphPerRow):\n",
    "    nunique = df.nunique()\n",
    "    df = df[[col for col in df if nunique[col] > 1 and nunique[col] < 50]] # For displaying purposes, pick columns that have between 1 and 50 unique values\n",
    "    nRow, nCol = df.shape\n",
    "    columnNames = list(df)\n",
    "    nGraphRow = (nCol + nGraphPerRow - 1) / nGraphPerRow\n",
    "    plt.figure(num = None, figsize = (6 * nGraphPerRow, 8 * nGraphRow), dpi = 80, facecolor = 'w', edgecolor = 'k')\n",
    "    for i in range(min(nCol, nGraphShown)):\n",
    "        plt.subplot(nGraphRow, nGraphPerRow, i + 1)\n",
    "        columnDf = df.iloc[:, i]\n",
    "        if (not np.issubdtype(type(columnDf.iloc[0]), np.number)):\n",
    "            valueCounts = columnDf.value_counts()\n",
    "            valueCounts.plot.bar()\n",
    "        else:\n",
    "            columnDf.hist()\n",
    "        plt.ylabel('counts')\n",
    "        plt.xticks(rotation = 90)\n",
    "        plt.title(f'{columnNames[i]} (column {i})')\n",
    "    plt.tight_layout(pad = 1.0, w_pad = 1.0, h_pad = 1.0)\n",
    "    plt.show()"
   ]
  },
  {
   "cell_type": "code",
   "execution_count": 11,
   "metadata": {},
   "outputs": [
    {
     "data": {
      "image/png": "[encoded data removed]",
      "text/plain": [
       "<Figure size 2400x2048 with 12 Axes>"
      ]
     },
     "metadata": {},
     "output_type": "display_data"
    }
   ],
   "source": [
    "plotPerColumnDistribution(data, 13, 5)"
   ]
  },
  {
   "cell_type": "markdown",
   "metadata": {},
   "source": [
    "### Data Cleaning "
   ]
  },
  {
   "cell_type": "code",
   "execution_count": 12,
   "metadata": {},
   "outputs": [
    {
     "data": {
      "text/plain": [
       "<matplotlib.axes._subplots.AxesSubplot at 0xefe5da4438>"
      ]
     },
     "execution_count": 12,
     "metadata": {},
     "output_type": "execute_result"
    },
    {
     "data": {
      "image/png": "[encoded data removed]",
      "text/plain": [
       "<Figure size 432x288 with 1 Axes>"
      ]
     },
     "metadata": {},
     "output_type": "display_data"
    }
   ],
   "source": [
    "df2 = data['Heart Disease'].value_counts()\n",
    "df2.plot(kind='bar')"
   ]
  },
  {
   "cell_type": "code",
   "execution_count": 13,
   "metadata": {},
   "outputs": [],
   "source": [
    "data['Heart Disease']=data['Heart Disease'].replace(['Presence','Absence'],[1,0])"
   ]
  },
  {
   "cell_type": "code",
   "execution_count": 14,
   "metadata": {},
   "outputs": [
    {
     "data": {
      "text/plain": [
       "54    16\n",
       "58    15\n",
       "51    12\n",
       "57    12\n",
       "59    12\n",
       "Name: Age, dtype: int64"
      ]
     },
     "execution_count": 14,
     "metadata": {},
     "output_type": "execute_result"
    }
   ],
   "source": [
    "data.Age.value_counts().head()"
   ]
  },
  {
   "cell_type": "code",
   "execution_count": 15,
   "metadata": {},
   "outputs": [
    {
     "name": "stdout",
     "output_type": "stream",
     "text": [
      "Maximum Age:  77\n",
      "Minimum Age: 29\n"
     ]
    }
   ],
   "source": [
    "print(\"Maximum Age: \",data.Age.max())\n",
    "print(\"Minimum Age:\",data.Age.min())"
   ]
  },
  {
   "cell_type": "code",
   "execution_count": 16,
   "metadata": {},
   "outputs": [],
   "source": [
    "#data['group_age'] = pd.cut(data['Age'], bins = [0,40,50,60,70,100], include_lowest = True, labels = ['0-40', '41-50','51-60','61-70','71 and above'])"
   ]
  },
  {
   "cell_type": "code",
   "execution_count": 17,
   "metadata": {},
   "outputs": [],
   "source": [
    "#df2 = data['group_age'].value_counts()\n",
    "# Fixed to show distribution of bin\n",
    "#df2.plot(kind='bar')"
   ]
  },
  {
   "cell_type": "markdown",
   "metadata": {},
   "source": [
    "### One hot encoding for the nominal features"
   ]
  },
  {
   "cell_type": "code",
   "execution_count": 18,
   "metadata": {},
   "outputs": [],
   "source": [
    "def onehot_encode(df, column_dict):\n",
    "    df = df.copy()\n",
    "    for column, prefix in column_dict.items():\n",
    "        dummies = pd.get_dummies(df[column], prefix=prefix)\n",
    "        df = pd.concat([df, dummies], axis=1)\n",
    "        df = df.drop(column, axis=1)\n",
    "    return df"
   ]
  },
  {
   "cell_type": "code",
   "execution_count": 19,
   "metadata": {},
   "outputs": [],
   "source": [
    "def preprocess_inputs(df, scaler):\n",
    "    df = df.copy()\n",
    "    \n",
    "    # One-hot encode the nominal features\n",
    "    nominal_features = ['Chest pain type', 'Slope of ST', 'Thallium']\n",
    "    df = onehot_encode(df, dict(zip(nominal_features, ['CP', 'SL', 'TH'])))\n",
    "    \n",
    "    # Split df into X and y\n",
    "    y = df['Heart Disease'].values\n",
    "    X = df.drop('Heart Disease', axis=1).copy()\n",
    "    \n",
    "    # Scale X\n",
    "    X = pd.DataFrame(scaler.fit_transform(X), columns=X.columns)\n",
    "    \n",
    "    return X, y"
   ]
  },
  {
   "cell_type": "code",
   "execution_count": 20,
   "metadata": {},
   "outputs": [],
   "source": [
    "X, y = preprocess_inputs(data, RobustScaler())"
   ]
  },
  {
   "cell_type": "code",
   "execution_count": 21,
   "metadata": {},
   "outputs": [
    {
     "data": {
      "text/html": [
       "<div>\n",
       "<style scoped>\n",
       "    .dataframe tbody tr th:only-of-type {\n",
       "        vertical-align: middle;\n",
       "    }\n",
       "\n",
       "    .dataframe tbody tr th {\n",
       "        vertical-align: top;\n",
       "    }\n",
       "\n",
       "    .dataframe thead th {\n",
       "        text-align: right;\n",
       "    }\n",
       "</style>\n",
       "<table border=\"1\" class=\"dataframe\">\n",
       "  <thead>\n",
       "    <tr style=\"text-align: right;\">\n",
       "      <th></th>\n",
       "      <th>Age</th>\n",
       "      <th>Sex</th>\n",
       "      <th>BP</th>\n",
       "      <th>Cholesterol</th>\n",
       "      <th>FBS over 120</th>\n",
       "      <th>EKG results</th>\n",
       "      <th>Max HR</th>\n",
       "      <th>Exercise angina</th>\n",
       "      <th>ST depression</th>\n",
       "      <th>Number of vessels fluro</th>\n",
       "      <th>CP_1</th>\n",
       "      <th>CP_2</th>\n",
       "      <th>CP_3</th>\n",
       "      <th>CP_4</th>\n",
       "      <th>SL_1</th>\n",
       "      <th>SL_2</th>\n",
       "      <th>SL_3</th>\n",
       "      <th>TH_3</th>\n",
       "      <th>TH_6</th>\n",
       "      <th>TH_7</th>\n",
       "    </tr>\n",
       "  </thead>\n",
       "  <tbody>\n",
       "    <tr>\n",
       "      <th>0</th>\n",
       "      <td>1.153846</td>\n",
       "      <td>0.0</td>\n",
       "      <td>0.00</td>\n",
       "      <td>1.149254</td>\n",
       "      <td>0.0</td>\n",
       "      <td>0.0</td>\n",
       "      <td>-1.348485</td>\n",
       "      <td>0.0</td>\n",
       "      <td>1.0000</td>\n",
       "      <td>3.0</td>\n",
       "      <td>0.0</td>\n",
       "      <td>0.0</td>\n",
       "      <td>0.0</td>\n",
       "      <td>1.0</td>\n",
       "      <td>0.0</td>\n",
       "      <td>1.0</td>\n",
       "      <td>0.0</td>\n",
       "      <td>0.0</td>\n",
       "      <td>0.0</td>\n",
       "      <td>0.0</td>\n",
       "    </tr>\n",
       "    <tr>\n",
       "      <th>1</th>\n",
       "      <td>0.923077</td>\n",
       "      <td>-1.0</td>\n",
       "      <td>-0.75</td>\n",
       "      <td>4.761194</td>\n",
       "      <td>0.0</td>\n",
       "      <td>0.0</td>\n",
       "      <td>0.196970</td>\n",
       "      <td>0.0</td>\n",
       "      <td>0.5000</td>\n",
       "      <td>0.0</td>\n",
       "      <td>0.0</td>\n",
       "      <td>0.0</td>\n",
       "      <td>1.0</td>\n",
       "      <td>0.0</td>\n",
       "      <td>0.0</td>\n",
       "      <td>1.0</td>\n",
       "      <td>0.0</td>\n",
       "      <td>-1.0</td>\n",
       "      <td>0.0</td>\n",
       "      <td>1.0</td>\n",
       "    </tr>\n",
       "    <tr>\n",
       "      <th>2</th>\n",
       "      <td>0.153846</td>\n",
       "      <td>0.0</td>\n",
       "      <td>-0.30</td>\n",
       "      <td>0.238806</td>\n",
       "      <td>0.0</td>\n",
       "      <td>-1.0</td>\n",
       "      <td>-0.378788</td>\n",
       "      <td>0.0</td>\n",
       "      <td>-0.3125</td>\n",
       "      <td>0.0</td>\n",
       "      <td>0.0</td>\n",
       "      <td>1.0</td>\n",
       "      <td>0.0</td>\n",
       "      <td>0.0</td>\n",
       "      <td>1.0</td>\n",
       "      <td>0.0</td>\n",
       "      <td>0.0</td>\n",
       "      <td>-1.0</td>\n",
       "      <td>0.0</td>\n",
       "      <td>1.0</td>\n",
       "    </tr>\n",
       "    <tr>\n",
       "      <th>3</th>\n",
       "      <td>0.692308</td>\n",
       "      <td>0.0</td>\n",
       "      <td>-0.10</td>\n",
       "      <td>0.268657</td>\n",
       "      <td>0.0</td>\n",
       "      <td>-1.0</td>\n",
       "      <td>-1.469697</td>\n",
       "      <td>1.0</td>\n",
       "      <td>-0.3750</td>\n",
       "      <td>1.0</td>\n",
       "      <td>0.0</td>\n",
       "      <td>0.0</td>\n",
       "      <td>0.0</td>\n",
       "      <td>1.0</td>\n",
       "      <td>0.0</td>\n",
       "      <td>1.0</td>\n",
       "      <td>0.0</td>\n",
       "      <td>-1.0</td>\n",
       "      <td>0.0</td>\n",
       "      <td>1.0</td>\n",
       "    </tr>\n",
       "    <tr>\n",
       "      <th>4</th>\n",
       "      <td>1.461538</td>\n",
       "      <td>-1.0</td>\n",
       "      <td>-0.50</td>\n",
       "      <td>0.358209</td>\n",
       "      <td>0.0</td>\n",
       "      <td>0.0</td>\n",
       "      <td>-0.984848</td>\n",
       "      <td>1.0</td>\n",
       "      <td>-0.3750</td>\n",
       "      <td>1.0</td>\n",
       "      <td>0.0</td>\n",
       "      <td>1.0</td>\n",
       "      <td>0.0</td>\n",
       "      <td>0.0</td>\n",
       "      <td>1.0</td>\n",
       "      <td>0.0</td>\n",
       "      <td>0.0</td>\n",
       "      <td>0.0</td>\n",
       "      <td>0.0</td>\n",
       "      <td>0.0</td>\n",
       "    </tr>\n",
       "  </tbody>\n",
       "</table>\n",
       "</div>"
      ],
      "text/plain": [
       "        Age  Sex    BP  Cholesterol  FBS over 120  EKG results    Max HR  \\\n",
       "0  1.153846  0.0  0.00     1.149254           0.0          0.0 -1.348485   \n",
       "1  0.923077 -1.0 -0.75     4.761194           0.0          0.0  0.196970   \n",
       "2  0.153846  0.0 -0.30     0.238806           0.0         -1.0 -0.378788   \n",
       "3  0.692308  0.0 -0.10     0.268657           0.0         -1.0 -1.469697   \n",
       "4  1.461538 -1.0 -0.50     0.358209           0.0          0.0 -0.984848   \n",
       "\n",
       "   Exercise angina  ST depression  Number of vessels fluro  CP_1  CP_2  CP_3  \\\n",
       "0              0.0         1.0000                      3.0   0.0   0.0   0.0   \n",
       "1              0.0         0.5000                      0.0   0.0   0.0   1.0   \n",
       "2              0.0        -0.3125                      0.0   0.0   1.0   0.0   \n",
       "3              1.0        -0.3750                      1.0   0.0   0.0   0.0   \n",
       "4              1.0        -0.3750                      1.0   0.0   1.0   0.0   \n",
       "\n",
       "   CP_4  SL_1  SL_2  SL_3  TH_3  TH_6  TH_7  \n",
       "0   1.0   0.0   1.0   0.0   0.0   0.0   0.0  \n",
       "1   0.0   0.0   1.0   0.0  -1.0   0.0   1.0  \n",
       "2   0.0   1.0   0.0   0.0  -1.0   0.0   1.0  \n",
       "3   1.0   0.0   1.0   0.0  -1.0   0.0   1.0  \n",
       "4   0.0   1.0   0.0   0.0   0.0   0.0   0.0  "
      ]
     },
     "execution_count": 21,
     "metadata": {},
     "output_type": "execute_result"
    }
   ],
   "source": [
    "X.head()"
   ]
  },
  {
   "cell_type": "code",
   "execution_count": 22,
   "metadata": {},
   "outputs": [],
   "source": [
    "X_train, X_test, y_train, y_test = train_test_split(X, y, test_size=0.2, random_state=101)"
   ]
  },
  {
   "cell_type": "markdown",
   "metadata": {},
   "source": [
    "#### FEEDFORWARD NEURAL NETWORK"
   ]
  },
  {
   "cell_type": "code",
   "execution_count": 23,
   "metadata": {},
   "outputs": [],
   "source": [
    "def sigmoid(x):\n",
    "    return 1 / (1 + np.exp(-x))\n",
    "\n",
    "def mean_squared_error(predictions, labels):\n",
    "    N = labels.size \n",
    "    mse = ((predictions - labels)**2).sum() / (2*N)\n",
    "    return mse\n",
    "\n",
    "def accuracy(predictions, labels):\n",
    "    predicions_correct = predictions.round() == labels\n",
    "    accuracy = predicions_correct.mean()\n",
    "    return accuracy"
   ]
  },
  {
   "cell_type": "code",
   "execution_count": 24,
   "metadata": {},
   "outputs": [],
   "source": [
    "y_train = y_train.reshape((-1,1))\n",
    "y_test = y_test.reshape((-1,1))"
   ]
  },
  {
   "cell_type": "code",
   "execution_count": 25,
   "metadata": {},
   "outputs": [],
   "source": [
    "learning_rate = 0.7\n",
    "epochs = 18000,\n",
    "n_input = 20,\n",
    "n_hidden = 4,\n",
    "n_output = 1\n",
    "np.random.seed(10)\n",
    "weights_1 = np.random.normal(scale=0.5, size=(20,4))   # (24, 4) n_input, n_hidden\n",
    "weights_2 = np.random.normal(scale=0.5, size=(4,1))  # n_hidden, n_output (4, 1)"
   ]
  },
  {
   "cell_type": "code",
   "execution_count": 26,
   "metadata": {},
   "outputs": [
    {
     "name": "stdout",
     "output_type": "stream",
     "text": [
      "Epoch 1/(18000,) - Sum Squared Error(0.1698561475208504), Accuracy(0.35185185185185186)\n",
      "Epoch 1001/(18000,) - Sum Squared Error(0.040850871306535363), Accuracy(0.9027777777777778)\n",
      "Epoch 2001/(18000,) - Sum Squared Error(0.035880848614381), Accuracy(0.9166666666666666)\n",
      "Epoch 3001/(18000,) - Sum Squared Error(0.030060654590067817), Accuracy(0.9444444444444444)\n",
      "Epoch 4001/(18000,) - Sum Squared Error(0.024637129086933607), Accuracy(0.9583333333333334)\n",
      "Epoch 5001/(18000,) - Sum Squared Error(0.0212337451481936), Accuracy(0.9675925925925926)\n",
      "Epoch 6001/(18000,) - Sum Squared Error(0.019542125912861582), Accuracy(0.9675925925925926)\n",
      "Epoch 7001/(18000,) - Sum Squared Error(0.01862110207134582), Accuracy(0.9675925925925926)\n",
      "Epoch 8001/(18000,) - Sum Squared Error(0.018059461471634022), Accuracy(0.9675925925925926)\n",
      "Epoch 9001/(18000,) - Sum Squared Error(0.017688613382476823), Accuracy(0.9675925925925926)\n",
      "Epoch 10001/(18000,) - Sum Squared Error(0.01742906457427932), Accuracy(0.9675925925925926)\n",
      "Epoch 11001/(18000,) - Sum Squared Error(0.017239191154246755), Accuracy(0.9675925925925926)\n",
      "Epoch 12001/(18000,) - Sum Squared Error(0.017095369820024315), Accuracy(0.9675925925925926)\n",
      "Epoch 13001/(18000,) - Sum Squared Error(0.01698332369073948), Accuracy(0.9675925925925926)\n",
      "Epoch 14001/(18000,) - Sum Squared Error(0.016893981532122387), Accuracy(0.9675925925925926)\n",
      "Epoch 15001/(18000,) - Sum Squared Error(0.016821339455539236), Accuracy(0.9675925925925926)\n",
      "Epoch 16001/(18000,) - Sum Squared Error(0.016761286050601155), Accuracy(0.9675925925925926)\n",
      "Epoch 17001/(18000,) - Sum Squared Error(0.01671092311495599), Accuracy(0.9675925925925926)\n",
      "Final Epoch 18000/(18000,) - Sum Squared Error(0.016668195359938933), Accuracy(0.9675925925925926)\n"
     ]
    }
   ],
   "source": [
    "N = y_train.size\n",
    "monitoring = {\"mean_squared_error\": [], \"accuracy\": []}\n",
    "\n",
    "def train(learning_rate, epochs,weights_1, weights_2):\n",
    "    \n",
    "    for epoch in range(18000):\n",
    "        if(epoch==0):\n",
    "            wc1,wc2 = 0.0,0.0\n",
    "\n",
    "        # feedforward\n",
    "        hidden_layer = sigmoid(np.dot(X_train, weights_1))        # (712, 4)\n",
    "        output_layer = sigmoid(np.dot(hidden_layer, weights_2))   # (712, 1)\n",
    "\n",
    "        # monitor training process\n",
    "        acc = accuracy(output_layer, y_train)\n",
    "        mse = mean_squared_error(output_layer, y_train)\n",
    "        monitoring[\"accuracy\"].append(acc)\n",
    "        monitoring[\"mean_squared_error\"].append(mse)\n",
    "\n",
    "        # backpropagation\n",
    "        output_layer_delta = (output_layer - y_train) * output_layer * (1 - output_layer)                 # (712, 1)\n",
    "        hidden_layer_delta = np.dot(output_layer_delta, weights_2.T) * hidden_layer * (1 - hidden_layer)  # (712, 4)\n",
    "        \n",
    "        #Calculation with momentum\n",
    "        # Weight changes(t-1)\n",
    "        wc2_before = wc2 # (4, 1)\n",
    "        wc1_before = wc1 # (24, 4)\n",
    "\n",
    "        # Weight changes(t)\n",
    "        wc2 = learning_rate * np.dot(hidden_layer.T, output_layer_delta)  / N # (4, 1)\n",
    "        wc1 = learning_rate * np.dot(X_train.T, hidden_layer_delta)  / N # (24, 4)\n",
    "        \n",
    "        # weight updates\n",
    "        weights_2 -= wc2 + wc2_before    \n",
    "        weights_1 -= wc1 + wc1_before\n",
    "             \n",
    "        '''\n",
    "        # Calulation without momentum\n",
    "        # weight updates\n",
    "        weights_2 -= (learning_rate * np.dot(hidden_layer.T, output_layer_delta)  / N)    \n",
    "        weights_1 -= (learning_rate * np.dot(x_train.T, hidden_layer_delta)  / N)\n",
    "        '''\n",
    "        \n",
    "        if(epoch%1000==0):\n",
    "            print(\"Epoch {}/{} - Sum Squared Error({}), Accuracy({})\".format(epoch+1,epochs,mse,acc))\n",
    "                    \n",
    "    print(\"Final Epoch {}/{} - Sum Squared Error({}), Accuracy({})\".format(epoch+1,epochs,mse,acc))\n",
    "        \n",
    "\n",
    "train(learning_rate, epochs, weights_1, weights_2)\n",
    "\n",
    "monitoring_df = pd.DataFrame(monitoring)"
   ]
  },
  {
   "cell_type": "code",
   "execution_count": 27,
   "metadata": {},
   "outputs": [],
   "source": [
    "#testdata\n",
    "\n",
    "# feedforward\n",
    "hidden_layer_inputs = np.dot(X_test, weights_1)\n",
    "hidden_layer_outputs = sigmoid(hidden_layer_inputs)\n",
    "\n",
    "output_layer_inputs = np.dot(hidden_layer_outputs, weights_2)\n",
    "output_layer_outputs = sigmoid(output_layer_inputs)"
   ]
  },
  {
   "cell_type": "code",
   "execution_count": 28,
   "metadata": {},
   "outputs": [
    {
     "name": "stdout",
     "output_type": "stream",
     "text": [
      "Accuracy: 0.8888888888888888\n"
     ]
    }
   ],
   "source": [
    "acc = accuracy(output_layer_outputs, y_test)\n",
    "print(\"Accuracy: {}\".format(acc))"
   ]
  },
  {
   "cell_type": "code",
   "execution_count": 31,
   "metadata": {},
   "outputs": [
    {
     "name": "stdout",
     "output_type": "stream",
     "text": [
      "Accuracy: 0.8888888888888888\n"
     ]
    }
   ],
   "source": [
    "print('Accuracy:',acc)"
   ]
  },
  {
   "cell_type": "markdown",
   "metadata": {},
   "source": [
    "#### DECISION TREE AND RANDOM FOREST"
   ]
  },
  {
   "cell_type": "code",
   "execution_count": 32,
   "metadata": {},
   "outputs": [
    {
     "name": "stdout",
     "output_type": "stream",
     "text": [
      "[1]Decision Tree Classifier Training Accuracy: 1.0\n",
      "[2]Random Forest Classifier Training Accuracy: 0.9953703703703703\n"
     ]
    }
   ],
   "source": [
    "# Define a function which trains models\n",
    "def models(X_train,y_train):\n",
    "    from sklearn.tree import DecisionTreeClassifier\n",
    "    tree = DecisionTreeClassifier(criterion = 'entropy', random_state = 0)\n",
    "    tree.fit(X_train, y_train)\n",
    "  #Using Random Forest Classifier\n",
    "    from sklearn.ensemble import RandomForestClassifier\n",
    "    forest = RandomForestClassifier(n_estimators = 10, criterion = 'entropy', random_state = 0)\n",
    "    forest.fit(X_train, y_train)\n",
    "\n",
    "  \n",
    "  #print model accuracy on the training data.\n",
    "    print('[1]Decision Tree Classifier Training Accuracy:', tree.score(X_train, y_train))\n",
    "    print('[2]Random Forest Classifier Training Accuracy:', forest.score(X_train, y_train))\n",
    "    \n",
    "    \n",
    "  \n",
    "    return tree,forest\n",
    "#get the training results\n",
    "model = models(X_train,y_train)"
   ]
  },
  {
   "cell_type": "code",
   "execution_count": 33,
   "metadata": {},
   "outputs": [
    {
     "name": "stdout",
     "output_type": "stream",
     "text": [
      "Logistic Regression Accuracy: 88.89%\n"
     ]
    }
   ],
   "source": [
    "lr_model = LogisticRegression()\n",
    "lr_model.fit(X_train, y_train)\n",
    "print(\"Logistic Regression Accuracy: {:.2f}%\".format(lr_model.score(X_test, y_test) * 100))"
   ]
  },
  {
   "cell_type": "code",
   "execution_count": 34,
   "metadata": {},
   "outputs": [
    {
     "name": "stdout",
     "output_type": "stream",
     "text": [
      "[[23  7]\n",
      " [ 8 16]]\n",
      "Model[0] Testing Accuracy = \"0.7222222222222222\"\n",
      "\n",
      "[[27  3]\n",
      " [ 7 17]]\n",
      "Model[1] Testing Accuracy = \"0.8148148148148148\"\n",
      "\n"
     ]
    }
   ],
   "source": [
    "from sklearn.metrics import confusion_matrix\n",
    "for i in range(len(model)):\n",
    "    cm = confusion_matrix(y_test, model[i].predict(X_test))\n",
    "    TN = cm[0][0]\n",
    "    TP = cm[1][1]\n",
    "    FN = cm[1][0]\n",
    "    FP = cm[0][1]\n",
    "\n",
    "    print(cm)\n",
    "    print('Model[{}] Testing Accuracy = \"{}\"'.format(i, (TP + TN) / (TP + TN + FN + FP)))\n",
    "    print()"
   ]
  },
  {
   "cell_type": "code",
   "execution_count": 35,
   "metadata": {},
   "outputs": [
    {
     "name": "stdout",
     "output_type": "stream",
     "text": [
      "Model 0\n",
      "              precision    recall  f1-score   support\n",
      "\n",
      "     Absence       0.74      0.77      0.75        30\n",
      "    Presence       0.70      0.67      0.68        24\n",
      "\n",
      "    accuracy                           0.72        54\n",
      "   macro avg       0.72      0.72      0.72        54\n",
      "weighted avg       0.72      0.72      0.72        54\n",
      "\n",
      "0.7222222222222222\n",
      "\n",
      "Model 1\n",
      "              precision    recall  f1-score   support\n",
      "\n",
      "     Absence       0.79      0.90      0.84        30\n",
      "    Presence       0.85      0.71      0.77        24\n",
      "\n",
      "    accuracy                           0.81        54\n",
      "   macro avg       0.82      0.80      0.81        54\n",
      "weighted avg       0.82      0.81      0.81        54\n",
      "\n",
      "0.8148148148148148\n",
      "\n"
     ]
    }
   ],
   "source": [
    "from sklearn.metrics import classification_report\n",
    "from sklearn.metrics import accuracy_score\n",
    "for i in range(len(model)):\n",
    "    print('Model',i)\n",
    " #Check precision, recall, f1-score\n",
    "    print(classification_report(y_test, model[i].predict(X_test)))\n",
    " #Another way to get the models accuracy on the test data\n",
    "    print(accuracy_score(y_test, model[i].predict(X_test)))\n",
    "    print()"
   ]
  },
  {
   "cell_type": "code",
   "execution_count": 36,
   "metadata": {},
   "outputs": [],
   "source": [
    "forest=model[1]\n",
    "feats = {}\n",
    "for feature, importance in zip(X.columns, forest.feature_importances_):\n",
    "    feats[feature] = importance"
   ]
  },
  {
   "cell_type": "code",
   "execution_count": 37,
   "metadata": {},
   "outputs": [],
   "source": [
    "sorted_by_values= sorted(feats.items(), key=lambda x: (x[1],x[0]), reverse=True)"
   ]
  },
  {
   "cell_type": "code",
   "execution_count": 38,
   "metadata": {},
   "outputs": [
    {
     "data": {
      "text/plain": [
       "[('TH_7', 0.10933415263405595),\n",
       " ('Cholesterol', 0.10667086134587081),\n",
       " ('ST depression', 0.10507043089040627),\n",
       " ('Max HR', 0.10087847450256122),\n",
       " ('Number of vessels fluro', 0.09459063528230699),\n",
       " ('Age', 0.08628413276478357),\n",
       " ('BP', 0.06974148835172059),\n",
       " ('CP_4', 0.06708451674367763),\n",
       " ('Exercise angina', 0.03881818904800802),\n",
       " ('TH_3', 0.03719645445359472),\n",
       " ('SL_1', 0.0342679038305768),\n",
       " ('Sex', 0.030998715183284238),\n",
       " ('SL_2', 0.027913734322008478),\n",
       " ('EKG results', 0.027548387857447065),\n",
       " ('CP_1', 0.019818025062381766),\n",
       " ('CP_3', 0.016060321865694657),\n",
       " ('CP_2', 0.010559421967785145),\n",
       " ('FBS over 120', 0.009078401243522435),\n",
       " ('SL_3', 0.007349812792347156),\n",
       " ('TH_6', 0.0007359398579665286)]"
      ]
     },
     "execution_count": 38,
     "metadata": {},
     "output_type": "execute_result"
    }
   ],
   "source": [
    "sorted_by_values"
   ]
  },
  {
   "cell_type": "code",
   "execution_count": null,
   "metadata": {},
   "outputs": [],
   "source": []
  }
 ],
 "metadata": {
  "kernelspec": {
   "display_name": "Python 3 (ipykernel)",
   "language": "python",
   "name": "python3"
  },
  "language_info": {
   "codemirror_mode": {
    "name": "ipython",
    "version": 3
   },
   "file_extension": ".py",
   "mimetype": "text/x-python",
   "name": "python",
   "nbconvert_exporter": "python",
   "pygments_lexer": "ipython3",
   "version": "3.10.0"
  }
 },
 "nbformat": 4,
 "nbformat_minor": 2
}
